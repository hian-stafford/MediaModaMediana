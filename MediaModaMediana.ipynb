{
 "cells": [
  {
   "cell_type": "markdown",
   "metadata": {},
   "source": [
    "# Média, Moda e Mediana"
   ]
  },
  {
   "cell_type": "markdown",
   "metadata": {},
   "source": [
    "### Média vs Mediana"
   ]
  },
  {
   "cell_type": "markdown",
   "metadata": {},
   "source": [
    "Criação de alguns dados de renda falsos para utilizar como exemplo, centrados com 27.000,00 de distribuição normal e 15.000,00 de desvio padrão, com 10.000 pontos de dados.\n",
    "\n",
    "Então, calcularemos a média (próximo de 27.000):"
   ]
  },
  {
   "cell_type": "code",
   "execution_count": 1,
   "metadata": {},
   "outputs": [
    {
     "data": {
      "text/plain": [
       "26878.5346479123"
      ]
     },
     "execution_count": 1,
     "metadata": {},
     "output_type": "execute_result"
    }
   ],
   "source": [
    "import numpy as np\n",
    "\n",
    "renda = np.random.normal(27000, 15000, 10000)\n",
    "np.mean(renda)"
   ]
  },
  {
   "cell_type": "markdown",
   "metadata": {},
   "source": [
    "Podemos fazer uma segmentação de dados de renda em 50 grupos e representá-los emm um histograma:"
   ]
  },
  {
   "cell_type": "code",
   "execution_count": 2,
   "metadata": {},
   "outputs": [
    {
     "data": {
      "image/png": "[encoded data removed]",
      "text/plain": [
       "<Figure size 640x480 with 1 Axes>"
      ]
     },
     "metadata": {},
     "output_type": "display_data"
    }
   ],
   "source": [
    "%matplotlib inline\n",
    "import matplotlib.pyplot as plt\n",
    "plt.hist(renda, 50)\n",
    "plt.show()"
   ]
  },
  {
   "cell_type": "code",
   "execution_count": 3,
   "metadata": {},
   "outputs": [
    {
     "data": {
      "text/plain": [
       "26814.00730671799"
      ]
     },
     "execution_count": 3,
     "metadata": {},
     "output_type": "execute_result"
    }
   ],
   "source": [
    "np.median(renda)"
   ]
  },
  {
   "cell_type": "markdown",
   "metadata": {},
   "source": [
    "Adicionando um valor de renda de Jeff Bezos nessa mistura, suponto que ele faça 1 bilhão de dólares por ano."
   ]
  },
  {
   "cell_type": "code",
   "execution_count": 4,
   "metadata": {},
   "outputs": [],
   "source": [
    "renda = np.append(renda, [1000000000])"
   ]
  },
  {
   "cell_type": "code",
   "execution_count": 5,
   "metadata": {},
   "outputs": [
    {
     "data": {
      "text/plain": [
       "26815.4002107932"
      ]
     },
     "execution_count": 5,
     "metadata": {},
     "output_type": "execute_result"
    }
   ],
   "source": [
    "np.median(renda)"
   ]
  },
  {
   "cell_type": "code",
   "execution_count": 6,
   "metadata": {},
   "outputs": [
    {
     "data": {
      "text/plain": [
       "126865.848063106"
      ]
     },
     "execution_count": 6,
     "metadata": {},
     "output_type": "execute_result"
    }
   ],
   "source": [
    "np.mean(renda)"
   ]
  },
  {
   "cell_type": "markdown",
   "metadata": {},
   "source": [
    "Aqui pode-se notar um outlier que pode bagunçar a média e a mediana de um conjunto de dados. Caso haja uma diferença absurda nos dados, a mediana pode dar uma resposta mais qualificada do que está acontecendo nos dados."
   ]
  },
  {
   "cell_type": "markdown",
   "metadata": {},
   "source": [
    "### Moda"
   ]
  },
  {
   "cell_type": "markdown",
   "metadata": {},
   "source": [
    "Gerando algumas idades fakes de 500 pessoas:"
   ]
  },
  {
   "cell_type": "code",
   "execution_count": 7,
   "metadata": {},
   "outputs": [
    {
     "data": {
      "text/plain": [
       "array([35, 38, 86, 36, 68, 20, 57, 41, 75, 18, 56, 74, 49, 40, 49, 77, 34,\n",
       "       68, 73, 89, 36, 32, 79, 85, 59, 85, 69, 41, 76, 20, 73, 24, 75, 55,\n",
       "       79, 68, 36, 41, 54, 51, 56, 72, 19, 51, 51, 44, 63, 24, 54, 60, 35,\n",
       "       78, 48, 85, 29, 42, 29, 88, 82, 71, 58, 60, 84, 31, 50, 38, 73, 29,\n",
       "       29, 69, 34, 25, 20, 61, 48, 52, 74, 28, 26, 45, 76, 25, 69, 73, 65,\n",
       "       25, 73, 82, 78, 19, 28, 19, 53, 74, 86, 36, 75, 38, 78, 72, 85, 53,\n",
       "       67, 89, 78, 32, 41, 76, 44, 32, 40, 75, 33, 28, 43, 37, 25, 39, 73,\n",
       "       27, 23, 30, 43, 64, 85, 77, 63, 81, 76, 26, 60, 44, 31, 50, 88, 41,\n",
       "       82, 88, 35, 87, 55, 59, 72, 35, 63, 53, 36, 26, 45, 22, 80, 51, 74,\n",
       "       51, 81, 48, 57, 55, 85, 62, 66, 27, 80, 25, 49, 48, 43, 18, 28, 33,\n",
       "       82, 30, 23, 66, 80, 36, 41, 35, 78, 36, 37, 55, 73, 81, 42, 32, 71,\n",
       "       20, 41, 67, 45, 85, 22, 61, 75, 65, 35, 22, 22, 52, 71, 88, 63, 60,\n",
       "       34, 43, 24, 30, 70, 47, 73, 39, 75, 78, 73, 64, 89, 79, 68, 32, 71,\n",
       "       32, 31, 35, 64, 42, 56, 30, 88, 36, 22, 31, 65, 50, 40, 81, 30, 20,\n",
       "       54, 75, 54, 46, 33, 70, 59, 60, 27, 67, 35, 41, 82, 75, 38, 75, 71,\n",
       "       26, 48, 44, 79, 73, 83, 59, 68, 59, 46, 83, 45, 40, 74, 76, 73, 19,\n",
       "       32, 83, 52, 40, 20, 37, 61, 62, 51, 83, 55, 69, 31, 78, 26, 21, 43,\n",
       "       23, 89, 31, 53, 41, 37, 33, 19, 43, 46, 33, 86, 88, 55, 78, 57, 72,\n",
       "       64, 51, 45, 35, 62, 21, 59, 84, 26, 48, 55, 80, 19, 34, 33, 76, 86,\n",
       "       56, 32, 54, 24, 65, 65, 46, 79, 57, 72, 47, 64, 77, 76, 28, 18, 68,\n",
       "       82, 88, 26, 59, 71, 30, 32, 19, 54, 79, 69, 44, 19, 48, 71, 87, 71,\n",
       "       31, 55, 74, 22, 26, 43, 36, 79, 32, 83, 66, 63, 88, 33, 20, 65, 54,\n",
       "       84, 48, 66, 51, 53, 39, 76, 30, 69, 33, 82, 29, 44, 47, 81, 79, 52,\n",
       "       61, 60, 42, 81, 78, 44, 71, 57, 25, 79, 87, 19, 58, 40, 27, 61, 43,\n",
       "       63, 47, 32, 50, 61, 20, 66, 31, 32, 84, 51, 47, 32, 31, 33, 54, 84,\n",
       "       76, 25, 52, 41, 21, 40, 83, 47, 58, 67, 28, 57, 76, 26, 53, 60, 86,\n",
       "       64, 80, 49, 73, 74, 88, 46, 25, 61, 29, 58, 78, 69, 19, 68, 37, 52,\n",
       "       45, 23, 39, 22, 82, 20, 28, 70, 41, 24, 89, 64, 27, 24, 88, 84, 55,\n",
       "       74, 57, 58, 54, 21, 58, 21, 85, 63, 68, 25, 33, 82, 53, 57, 65, 52,\n",
       "       72, 48, 28, 36, 57, 35, 88])"
      ]
     },
     "execution_count": 7,
     "metadata": {},
     "output_type": "execute_result"
    }
   ],
   "source": [
    "idades = np.random.randint(18, high=90, size=500)\n",
    "idades"
   ]
  },
  {
   "cell_type": "code",
   "execution_count": 11,
   "metadata": {},
   "outputs": [
    {
     "name": "stderr",
     "output_type": "stream",
     "text": [
      "C:\\Users\\Hian\\AppData\\Local\\Temp\\ipykernel_5692\\3900586095.py:2: FutureWarning: Unlike other reduction functions (e.g. `skew`, `kurtosis`), the default behavior of `mode` typically preserves the axis it acts along. In SciPy 1.11.0, this behavior will change: the default value of `keepdims` will become False, the `axis` over which the statistic is taken will be eliminated, and the value None will no longer be accepted. Set `keepdims` to True or False to avoid this warning.\n",
      "  stats.mode(idades)\n"
     ]
    },
    {
     "data": {
      "text/plain": [
       "ModeResult(mode=array([32]), count=array([13]))"
      ]
     },
     "execution_count": 11,
     "metadata": {},
     "output_type": "execute_result"
    }
   ],
   "source": [
    "from scipy import stats\n",
    "stats.mode(idades)"
   ]
  },
  {
   "cell_type": "code",
   "execution_count": null,
   "metadata": {},
   "outputs": [],
   "source": []
  }
 ],
 "metadata": {
  "kernelspec": {
   "display_name": "Python 3",
   "language": "python",
   "name": "python3"
  },
  "language_info": {
   "codemirror_mode": {
    "name": "ipython",
    "version": 3
   },
   "file_extension": ".py",
   "mimetype": "text/x-python",
   "name": "python",
   "nbconvert_exporter": "python",
   "pygments_lexer": "ipython3",
   "version": "3.10.9"
  }
 },
 "nbformat": 4,
 "nbformat_minor": 2
}
